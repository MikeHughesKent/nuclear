{
 "cells": [
  {
   "cell_type": "markdown",
   "metadata": {},
   "source": [
    "<b><i>PHYS6660 Nuclear and Particle Physics, University of Kent</b></i> \n",
    "# SEMI-EMPIRICAL MASS FORMULA\n",
    "\n",
    "<b><i>Mike Hughes, August 2021</b></i>\n",
    "\n",
    "This Jupyter notebook demonstrates how the SEMF can be used to predict the binding energy of stable nuclei. First we will use model parameters (the constants in front of each term of the formula) from the literature and compare the preducted binding energies with experimental data. We will then try to obtain a set of parameters by dong our own fit to the experimental data. Finally we will see that the SEMF under-predicts binding energies for certain nuclides with 'magic numbers' of protons or neutrons.\n",
    "\n",
    "The SEMF is given by:\n",
    "\n",
    "$$ B(Z,A) = a_vA - a_sA^{2/3} -a_cZ(Z-1)A^{-1/3} - a_{sym} \\frac{(A-2Z)^2}{A} + \\delta $$\n",
    "where:\n",
    "\n",
    "* For odd $A$ (either even $Z$, odd $N$ or odd $Z$, even $N$), $\\delta = 0$\n",
    "* For even $A$ due to even $Z$ and even $N$, $\\delta = a_pA^{-1/2}.$\n",
    "* For even $A$ due to odd $Z$ and odd $N$, $\\delta = -a_pA^{-1/2}$.\n",
    "\n",
    "The five terms are referred to as the volume, surface, Coulomb, symmetry and pairing terms, respectively."
   ]
  },
  {
   "cell_type": "code",
   "execution_count": null,
   "metadata": {},
   "outputs": [],
   "source": [
    "import pandas as pd\n",
    "import matplotlib.pyplot as plt\n",
    "import numpy as np\n",
    "import math\n",
    "from scipy.optimize import curve_fit\n"
   ]
  },
  {
   "cell_type": "markdown",
   "metadata": {},
   "source": [
    "## Python implementation of the SEMF\n",
    "\n",
    "This function calculates the binding energy using the SEMF for a given A and Z. "
   ]
  },
  {
   "cell_type": "code",
   "execution_count": null,
   "metadata": {},
   "outputs": [],
   "source": [
    "# Function to calculate binding energy for a given AZ = (A,Z) combination.\n",
    "def SEMF(AZ, a_v, a_s, a_c, a_sym, a_p):\n",
    "\n",
    "    (A,Z) = AZ\n",
    "    N = A - Z   # No. of nuetrons\n",
    "    B1 = a_v * A\n",
    "    B2 = -a_s * A **(2/3)\n",
    "    B3 = -a_c * Z * (Z-1)*A**(-1/3)\n",
    "    B4 = -a_sym * ((N-Z)**2)/A\n",
    "    B5 = a_p * (-((Z%2) + (N%2) - 1)) / A**(1/2) # This is neat way to implement the delta term, \n",
    "                                                 # check it to convince yourself it works. The % calculates the remainder\n",
    "                                                 # after devision e.g. 10%3 = 1\n",
    "\n",
    "    return B1 + B2 + B3 + B4 + B5  # Return total binding energy\n"
   ]
  },
  {
   "cell_type": "markdown",
   "metadata": {},
   "source": [
    "## Experimental Data\n",
    "The binding energies for stable nuclides are stored in a comma-separated value (CSV) data file. Below, we load in this file and extract some of the columns we need (A,Z,B and B/A)."
   ]
  },
  {
   "cell_type": "code",
   "execution_count": null,
   "metadata": {},
   "outputs": [],
   "source": [
    "# Load in experimental binding energies from CSV data file\n",
    "data = pd.read_csv('stable_nuc_data_v2.csv', header = 1)\n",
    "\n",
    "# Parse data to extract A, Z and B. We will start at the 2nd row to avoid looking at Hydrogen-1 \n",
    "# which is an outlier since there is no nuclear force involved.\n",
    "Z = data.values[1:,3]     # Atomic number\n",
    "A = data.values[1:,2]     # Atomic mass number\n",
    "B = data.values[1:,8]     # Binding energy (MeV)\n",
    "BperA = data.values[1:,9] # Binding energy per nucleon (MeV)\n",
    "AZ = (A,Z)                # Store the A and Z together\n"
   ]
  },
  {
   "cell_type": "markdown",
   "metadata": {},
   "source": [
    "## Plotting SEMF predictions using model parameters from the literature\n",
    "First we will predict binding energy using the SEMF using values for the five parameters that were given in the lectures. We will also plot the experimental values."
   ]
  },
  {
   "cell_type": "code",
   "execution_count": null,
   "metadata": {},
   "outputs": [],
   "source": [
    "# Parameters from literature\n",
    "a_v = 15.75\n",
    "a_s = 17.8\n",
    "a_c = 0.711\n",
    "a_sym = 23.7\n",
    "a_p = 11.18\n",
    "\n",
    "# Predict binding energies for all the nuclides we have data for using SEMF\n",
    "BPred = SEMF(AZ, a_v, a_s, a_c, a_sym, a_p)\n",
    "\n",
    "# Plot predicted and experimental binding energies\n",
    "ax = plt.plot(A, BPred/A, A, BperA)\n",
    "plt.xlabel(\"A\")\n",
    "plt.ylabel(\"Binding energy per nucleon (MeV)\")\n",
    "plt.legend([\"Model\", \"Experimental\"])\n",
    "plt.title(\"SEMF Prediction Using Literature Values\")"
   ]
  },
  {
   "cell_type": "markdown",
   "metadata": {},
   "source": [
    "## Fitting the SEMF parameters\n",
    "Now we will try to determine our own set of parameters for the SEMF model by fitting to the experimental data. For this we will use the curve_fit function from scipy which will try to determined the value of the parameters which minimises the difference between the SEMF predictions and the experimental values. The values should be similar to, but not identical to, the literature values, since the fit is not done in quite the same way or to exactly the same set of nuclides."
   ]
  },
  {
   "cell_type": "code",
   "execution_count": null,
   "metadata": {},
   "outputs": [],
   "source": [
    "# Perform a fit of the SEMF to experimental data and store the fitted values\n",
    "(fitVals, errs) = curve_fit(SEMF, (A,Z), B)\n",
    "(a_v, a_s, a_c, a_sym, a_p) = fitVals\n",
    "\n",
    "# Generate predicted binding energies using the SEMF with the fitted values\n",
    "BPredFitted = SEMF(AZ, a_v, a_s, a_c, a_sym, a_p)\n",
    "\n",
    "# Plot SEMF predicted binding energies with experiment binding energies\n",
    "ax = plt.plot(A, BPredFitted/A, A, BperA)\n",
    "plt.xlabel(\"A\")\n",
    "plt.ylabel(\"Binding energy per nucleon (MeV)\")\n",
    "plt.legend([\"Model\", \"Experimental\"])\n",
    "plt.title(\"SEMF Prediction Using Fitted Values\")\n",
    "\n",
    "# Display the fitted values\n",
    "print(\"Fitted parameters:\")\n",
    "print(\"a_v =\", round(a_v,2))\n",
    "print(\"a_s =\", round(a_s,2))\n",
    "print(\"a_c =\", round(a_c,2))\n",
    "print(\"a_sym =\", round(a_sym,2))\n",
    "print(\"a_p =\", round(a_p,2))\n"
   ]
  },
  {
   "cell_type": "markdown",
   "metadata": {},
   "source": [
    "## The Magic Numbers\n",
    "The SEMF under-estimates the binding energy for certain nuclides which specific numbers of protons and/or neutrons. These are the 'magic numbers': 2,8,20,28,50,82,126. Below we plot the difference between the measured binding energy and the preducted binding energy from our fitted SEMF model as function of Z (blue) and N (orange). The magic numbers are shown as green lines, and we can see the peaks match well. This hints at some kind of shell-filling behaviour in nuclei. "
   ]
  },
  {
   "cell_type": "code",
   "execution_count": null,
   "metadata": {},
   "outputs": [],
   "source": [
    "plt.plot(Z, B - BPredFitted, '.',A-Z, B - BPredFitted ,'.')\n",
    "\n",
    "magicNumbers = [2, 8, 20, 28, 50, 82, 126]\n",
    "for i in magicNumbers:\n",
    "    plt.axline((i, -5), (i, 5), color = 'green')\n",
    "    \n",
    "plt.xlabel(\"Z or N\")\n",
    "plt.ylabel(\"SEMF Model Error (MeV)\")\n",
    "plt.title(\"Magic number nuclei have higher binding energies\")\n",
    "plt.legend([\"Z\", \"N\"])\n"
   ]
  }
 ],
 "metadata": {
  "kernelspec": {
   "display_name": "Python 3",
   "language": "python",
   "name": "python3"
  },
  "language_info": {
   "codemirror_mode": {
    "name": "ipython",
    "version": 3
   },
   "file_extension": ".py",
   "mimetype": "text/x-python",
   "name": "python",
   "nbconvert_exporter": "python",
   "pygments_lexer": "ipython3",
   "version": "3.8.5"
  }
 },
 "nbformat": 4,
 "nbformat_minor": 4
}
