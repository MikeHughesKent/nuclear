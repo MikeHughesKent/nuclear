{
 "cells": [
  {
   "cell_type": "code",
   "execution_count": 95,
   "metadata": {},
   "outputs": [],
   "source": [
    "\n",
    "\n",
    "\n",
    "def SEMF(AZ, a_v, a_s, a_c, a_sym, a_p):\n",
    "\n",
    "    (A,Z) = AZ\n",
    "    N = A - Z\n",
    "    B1 = a_v * A\n",
    "    B2 = -a_s * A **(2/3)\n",
    "    B3 = -a_c * Z * (Z-1)*A**(-1/3)\n",
    "    B4 = -a_sym * ((N-Z)**2)/A\n",
    "    B5 = -a_p * (-((Z%2) + (N%2) - 1)) / A**(1/2)\n",
    "    #print(B1, B2, B3, B4, B5)\n",
    "    return B1 + B2 + B3 + B4 + B5\n",
    "\n",
    "\n",
    "\n",
    "\n",
    "\n"
   ]
  },
  {
   "cell_type": "code",
   "execution_count": 96,
   "metadata": {},
   "outputs": [
    {
     "data": {
      "text/plain": [
       "[<matplotlib.lines.Line2D at 0x1ca523c1160>]"
      ]
     },
     "execution_count": 96,
     "metadata": {},
     "output_type": "execute_result"
    },
    {
     "data": {
      "image/png": "[encoded data removed]",
      "text/plain": [
       "<Figure size 432x288 with 1 Axes>"
      ]
     },
     "metadata": {
      "needs_background": "light"
     },
     "output_type": "display_data"
    }
   ],
   "source": [
    "import pandas as pd\n",
    "import matplotlib.pyplot as plt\n",
    "import numpy as np\n",
    "from scipy.optimize import curve_fit\n",
    "data = pd.read_csv('stable_nuc_data.csv', header =None)\n",
    "data.values\n",
    "\n",
    "Z = data.values[:,3]\n",
    "A = data.values[:,2]\n",
    "BperA = data.values[:,5]\n",
    "B = BperA * A\n",
    "\n",
    "AZ = (A,Z)\n",
    "\n",
    "#plt.plot(A,BperA)\n",
    "a_v = 15.75\n",
    "a_s = 17.8\n",
    "a_c = 0.711\n",
    "a_sym = 23.7\n",
    "a_p = 11.18\n",
    "BPred = np.zeros(len(A))\n",
    "#for i in range(len(A)):\n",
    "BPred = (SEMF(AZ, a_v, a_s, a_c, a_sym, a_p))\n",
    "ft = curve_fit(SEMF, (A,Z), B)\n",
    "plt.plot(A,BPred/A)\n"
   ]
  },
  {
   "cell_type": "code",
   "execution_count": 92,
   "metadata": {},
   "outputs": [
    {
     "name": "stdout",
     "output_type": "stream",
     "text": [
      "(array([16.0429245 , 17.90807018,  0.71025959, 23.62813612, -7.92450243]), array([[ 7.45103153e-03,  2.26702630e-02,  5.80555941e-04,\n",
      "         1.29639047e-02, -4.18895380e-02],\n",
      "       [ 2.26702630e-02,  7.02660792e-02,  1.69136077e-03,\n",
      "         4.35467585e-02, -1.43406595e-01],\n",
      "       [ 5.80555941e-04,  1.69136077e-03,  5.11815820e-05,\n",
      "         5.51054321e-04, -2.59363871e-03],\n",
      "       [ 1.29639047e-02,  4.35467585e-02,  5.51054321e-04,\n",
      "         6.79258130e-02, -9.86770151e-02],\n",
      "       [-4.18895380e-02, -1.43406595e-01, -2.59363871e-03,\n",
      "        -9.86770151e-02,  1.22435691e+00]]))\n"
     ]
    }
   ],
   "source": [
    "print(ft)"
   ]
  }
 ],
 "metadata": {
  "kernelspec": {
   "display_name": "Python 3",
   "language": "python",
   "name": "python3"
  },
  "language_info": {
   "codemirror_mode": {
    "name": "ipython",
    "version": 3
   },
   "file_extension": ".py",
   "mimetype": "text/x-python",
   "name": "python",
   "nbconvert_exporter": "python",
   "pygments_lexer": "ipython3",
   "version": "3.8.5"
  }
 },
 "nbformat": 4,
 "nbformat_minor": 4
}
