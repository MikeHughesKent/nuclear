{
 "cells": [
  {
   "cell_type": "markdown",
   "metadata": {},
   "source": [
    "<b><i>PHYS6660 Nuclear and Particle Physics, University of Kent</b></i>\n",
    "\n",
    "# The Deuteron\n",
    "<b><i>Mike Hughes, August 2021</b></i>\n",
    "\n",
    "This notebook demonstrates solution of simple finite square well model for the deuteron. For use with Section 3 of the Nuclear Physics part of PH666 (Nuclear and Particle Physics) Notes.\n"
   ]
  },
  {
   "cell_type": "code",
   "execution_count": 3,
   "metadata": {},
   "outputs": [],
   "source": [
    "import numpy as np\n",
    "import matplotlib.pyplot as plt\n",
    "import math\n",
    "from scipy.optimize import root_scalar\n"
   ]
  },
  {
   "cell_type": "markdown",
   "metadata": {},
   "source": [
    "# Part 1 - Calculate Well Depth\n",
    "First, we numerically solve the equation $K\\cot(Kr0) = −k$ derived in the notes to dermine the value \n",
    "of the well potential, $V_0$. We use the known binding energy and reduced mass ($m_p / 2$) and our guess at the \n",
    "well radius of 2.1 fm."
   ]
  },
  {
   "cell_type": "code",
   "execution_count": null,
   "metadata": {},
   "outputs": [],
   "source": [
    "# PART 1 - CALCULATE WELL DEPTH\n",
    "hbar = 6.626 * 10**-34 / (2 * math.pi)     # Js\n",
    "e = 1.603 * 10**-19                        # C\n",
    "\n",
    "wellRadius = 2.1 * 10**-15                 # m\n",
    "bindEnergy = 2.224 * 10**6 * e             # J\n",
    "m_n = 1.67493 * 10**-27                    # kg\n",
    "m_p = 1.67262 * 10**-27                    # kg\n",
    "redMass = m_n * m_p /(m_n + m_p)           # kg\n",
    "\n",
    "# This is the function we want to find the root of to dermine the well depth which satisfies the equation\n",
    "def eqnResidual(wellDepth, hbar, bindEnergy, redMass):\n",
    "    # Calculate the wavenumbers inside (K) and outside (k) the well\n",
    "    k = math.sqrt(2 * redMass * bindEnergy) / hbar\n",
    "    K = math.sqrt(2 * redMass * (wellDepth - bindEnergy)) / hbar\n",
    "    # Return the residual Kcot(kr_0) + k)\n",
    "    return (K * 1/math.tan(K * wellRadius) + k) \n",
    "\n",
    "# Guess well depth is between binding energy and 20 times binding Energy.\n",
    "res = root_scalar(eqnResidual, bracket = (1.001 * bindEnergy, 20 * bindEnergy), args=(hbar, bindEnergy, redMass), xtol = 10**-16)\n",
    "wellDepth = res.root\n",
    "print(\"Found well potential of: \", round(wellDepth / e / 10**6,2), \" MeV\" )\n"
   ]
  },
  {
   "cell_type": "markdown",
   "metadata": {},
   "source": [
    "# Part 2 - Plot Wavefunction\n",
    "Using our well depth found above, we now plot the wavefunction."
   ]
  },
  {
   "cell_type": "code",
   "execution_count": null,
   "metadata": {},
   "outputs": [],
   "source": [
    "# PART 2 - PLOTTING THE WAVEFUNCTION OF THE DEUTERON\n",
    "\n",
    "# Plotting parameters\n",
    "maxRadius = 10 * 10**-15  # max radius to plot\n",
    "nPoints = 100             # number of data points in plot\n",
    "wavefunction = np.zeros(nPoints)\n",
    "\n",
    "# These are the points we will plot the wavefunction for\n",
    "radialPoint = np.linspace(0, maxRadius, nPoints)\n",
    "\n",
    "# Calculate the wavenumbers inside (K) and outside (k) the well\n",
    "k = np.sqrt(2 * redMass * bindEnergy) / hbar\n",
    "K = np.sqrt(2 * redMass * (wellDepth - bindEnergy)) / hbar\n",
    "\n",
    "# We are setting a, the constant in front of the sin term, to 1, then we figure out the\n",
    "# value of b, the constant in front of the exp term, so that the value are the same\n",
    "# at the boundary (step in the well)\n",
    "b =  np.sin(K * wellRadius) / np.exp(-k * wellRadius)\n",
    "\n",
    "# Calculate wavefunction for both inside and outside well\n",
    "wavefunction[radialPoint < wellRadius] =  np.sin(K * radialPoint[radialPoint < wellRadius])        # Points inside well\n",
    "wavefunction[radialPoint >= wellRadius] = b * np.exp(-k * radialPoint[radialPoint >= wellRadius])  # Points outside well\n",
    "\n",
    "# Display\n",
    "plt.plot(radialPoint * 10**15, wavefunction)\n",
    "plt.xlabel(\"Radius (fm)\")\n",
    "plt.ylabel(\"Wavefunction (arb units)\")"
   ]
  }
 ],
 "metadata": {
  "kernelspec": {
   "display_name": "Python 3",
   "language": "python",
   "name": "python3"
  },
  "language_info": {
   "codemirror_mode": {
    "name": "ipython",
    "version": 3
   },
   "file_extension": ".py",
   "mimetype": "text/x-python",
   "name": "python",
   "nbconvert_exporter": "python",
   "pygments_lexer": "ipython3",
   "version": "3.8.5"
  }
 },
 "nbformat": 4,
 "nbformat_minor": 4
}
